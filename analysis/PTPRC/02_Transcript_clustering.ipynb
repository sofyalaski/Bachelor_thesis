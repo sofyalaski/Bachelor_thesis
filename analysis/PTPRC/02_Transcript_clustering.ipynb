{
 "cells": [
  {
   "cell_type": "code",
   "execution_count": 1,
   "metadata": {},
   "outputs": [
    {
     "ename": "ArgumentError",
     "evalue": "ArgumentError: Package Distances not found in current path:\n- Run `import Pkg; Pkg.add(\"Distances\")` to install the Distances package.\n",
     "output_type": "error",
     "traceback": [
      "ArgumentError: Package Distances not found in current path:\n- Run `import Pkg; Pkg.add(\"Distances\")` to install the Distances package.\n",
      "",
      "Stacktrace:",
      " [1] require(::Module, ::Symbol) at ./loading.jl:823",
      " [2] top-level scope at In[1]:5"
     ]
    }
   ],
   "source": [
    "using Statistics\n",
    "\n",
    "using CSV\n",
    "using DataFrames\n",
    "using Distances\n",
    "using Clustering\n",
    "using Plots\n",
    "using Measures\n",
    "using StatsPlots\n",
    "\n",
    "ENV[\"LINES\"] = 9;"
   ]
  },
  {
   "cell_type": "code",
   "execution_count": 2,
   "metadata": {
    "tags": [
     "parameters"
    ]
   },
   "outputs": [
    {
     "data": {
      "text/plain": [
       "\"PTPRC\""
      ]
     },
     "execution_count": 2,
     "metadata": {},
     "output_type": "execute_result"
    }
   ],
   "source": [
    "# parameters\n",
    "protein = \"PTPRC\""
   ]
  },
  {
   "cell_type": "code",
   "execution_count": 3,
   "metadata": {},
   "outputs": [],
   "source": [
    "function path_to_TranscriptAnnotation()\n",
    "    folders = String[]\n",
    "    for folder in splitpath(pwd())\n",
    "        push!(folders, folder)\n",
    "        if folder == \"TranscriptAnnotation\"\n",
    "            break\n",
    "        end\n",
    "    end\n",
    "    joinpath(folders...)\n",
    "end\n",
    "\n",
    "transcript_annotation = path_to_TranscriptAnnotation()\n",
    "results_folder = joinpath(transcript_annotation, \"benchmark\", protein)\n",
    "table_path = joinpath(results_folder, \"thoraxe\", \"homologous_exon_table.csv\")\n",
    "\n",
    "const table = CSV.read(table_path);"
   ]
  },
  {
   "cell_type": "code",
   "execution_count": null,
   "metadata": {},
   "outputs": [],
   "source": []
  }
 ],
 "metadata": {
  "@webio": {
   "lastCommId": null,
   "lastKernelId": null
  },
  "kernelspec": {
   "display_name": "Julia 1.1.1",
   "language": "julia",
   "name": "julia-1.1"
  },
  "language_info": {
   "file_extension": ".jl",
   "mimetype": "application/julia",
   "name": "julia",
   "version": "1.1.1"
  }
 },
 "nbformat": 4,
 "nbformat_minor": 2
}
