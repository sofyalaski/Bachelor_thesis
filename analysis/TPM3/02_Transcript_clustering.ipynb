{
 "cells": [
  {
   "cell_type": "code",
   "execution_count": 1,
   "metadata": {},
   "outputs": [
    {
     "name": "stderr",
     "output_type": "stream",
     "text": [
      "┌ Info: Recompiling stale cache file C:\\Users\\Diego\\.julia\\compiled\\v1.1\\StatsPlots\\SiylL.ji for StatsPlots [f3b207a7-027a-5e70-b257-86293d7955fd]\n",
      "└ @ Base loading.jl:1184\n"
     ]
    },
    {
     "ename": "Base.IOError",
     "evalue": "IOError: unlink: resource busy or locked (EBUSY)",
     "output_type": "error",
     "traceback": [
      "IOError: unlink: resource busy or locked (EBUSY)",
      "",
      "Stacktrace:",
      " [1] uv_error at .\\libuv.jl:85 [inlined]",
      " [2] unlink(::String) at .\\file.jl:727",
      " [3] #rm#9(::Bool, ::Bool, ::Function, ::String) at .\\file.jl:253",
      " [4] #rm at .\\none:0 [inlined]",
      " [5] create_expr_cache(::String, ::String, ::Array{Pair{Base.PkgId,UInt64},1}, ::Base.UUID) at .\\loading.jl:1098",
      " [6] compilecache(::Base.PkgId, ::String) at .\\loading.jl:1188",
      " [7] _require(::Base.PkgId) at .\\loading.jl:960",
      " [8] require(::Base.PkgId) at .\\loading.jl:858",
      " [9] require(::Module, ::Symbol) at .\\loading.jl:853",
      " [10] top-level scope at In[1]:9"
     ]
    }
   ],
   "source": [
    "using Statistics\n",
    "\n",
    "using CSV\n",
    "using DataFrames\n",
    "using Distances\n",
    "using Clustering\n",
    "using Plots\n",
    "using Measures\n",
    "using StatsPlots\n",
    "\n",
    "ENV[\"LINES\"] = 9;"
   ]
  },
  {
   "cell_type": "code",
   "execution_count": 2,
   "metadata": {
    "tags": [
     "parameters"
    ]
   },
   "outputs": [
    {
     "data": {
      "text/plain": [
       "\"TPM3\""
      ]
     },
     "execution_count": 2,
     "metadata": {},
     "output_type": "execute_result"
    }
   ],
   "source": [
    "# parameters\n",
    "protein = \"TPM3\""
   ]
  },
  {
   "cell_type": "code",
   "execution_count": 3,
   "metadata": {},
   "outputs": [],
   "source": [
    "function path_to_TranscriptAnnotation()\n",
    "    folders = String[]\n",
    "    for folder in splitpath(pwd())\n",
    "        push!(folders, folder)\n",
    "        if folder == \"TranscriptAnnotation\"\n",
    "            break\n",
    "        end\n",
    "    end\n",
    "    joinpath(folders...)\n",
    "end\n",
    "\n",
    "transcript_annotation = path_to_TranscriptAnnotation()\n",
    "results_folder = joinpath(transcript_annotation, \"benchmark\", protein)\n",
    "table_path = joinpath(results_folder, \"thoraxe\", \"homologous_exon_table.csv\")\n",
    "\n",
    "const table = CSV.read(table_path);"
   ]
  }
 ],
 "metadata": {
  "@webio": {
   "lastCommId": null,
   "lastKernelId": null
  },
  "kernelspec": {
   "display_name": "Julia 1.1.0",
   "language": "julia",
   "name": "julia-1.1"
  },
  "language_info": {
   "file_extension": ".jl",
   "mimetype": "application/julia",
   "name": "julia",
   "version": "1.1.1"
  }
 },
 "nbformat": 4,
 "nbformat_minor": 2
}
